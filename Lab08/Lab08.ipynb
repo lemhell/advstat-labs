{
 "cells": [
  {
   "cell_type": "code",
   "execution_count": 210,
   "metadata": {
    "collapsed": true
   },
   "outputs": [],
   "source": [
    "import numpy as np\n",
    "import pandas as pd\n",
    "from matplotlib import pyplot as plt\n",
    "from scipy.optimize import minimize, fmin_bfgs\n",
    "from sklearn.linear_model import LinearRegression\n",
    "from sklearn.metrics import mean_squared_error\n",
    "from sklearn.model_selection import train_test_split\n",
    "from tqdm import tqdm_notebook as tqdm\n",
    "\n",
    "%matplotlib inline"
   ]
  },
  {
   "cell_type": "markdown",
   "metadata": {},
   "source": [
    "# Lab 08\n",
    "### Emil Magerramov"
   ]
  },
  {
   "cell_type": "markdown",
   "metadata": {},
   "source": [
    "## Assignment 1"
   ]
  },
  {
   "cell_type": "markdown",
   "metadata": {},
   "source": [
    "The task is to estimate mean and median statistics for the target variables $y_i$ using Bootstrap procedure.  \n",
    "Then, linear models for the target variables should be created and coefficients of these models (including the intercept) should be estimated using Bootstrap."
   ]
  },
  {
   "cell_type": "markdown",
   "metadata": {},
   "source": [
    "### Load the datasets"
   ]
  },
  {
   "cell_type": "code",
   "execution_count": 93,
   "metadata": {
    "collapsed": true
   },
   "outputs": [],
   "source": [
    "# The datasets are swapped for some reason\n",
    "dataset2 = pd.read_csv(\"./ds-boot-1.csv\", sep='\\t')\n",
    "dataset1 = pd.read_csv(\"./ds-boot-2.csv\", sep='\\t')"
   ]
  },
  {
   "cell_type": "markdown",
   "metadata": {},
   "source": [
    "### Check the first dataset"
   ]
  },
  {
   "cell_type": "code",
   "execution_count": 213,
   "metadata": {},
   "outputs": [
    {
     "data": {
      "text/html": [
       "<div>\n",
       "<table border=\"1\" class=\"dataframe\">\n",
       "  <thead>\n",
       "    <tr style=\"text-align: right;\">\n",
       "      <th></th>\n",
       "      <th>p1</th>\n",
       "      <th>p2</th>\n",
       "      <th>p3</th>\n",
       "      <th>p4</th>\n",
       "      <th>p5</th>\n",
       "      <th>p6</th>\n",
       "      <th>p7</th>\n",
       "      <th>p8</th>\n",
       "      <th>p9</th>\n",
       "      <th>p10</th>\n",
       "      <th>...</th>\n",
       "      <th>p19</th>\n",
       "      <th>p20</th>\n",
       "      <th>p21</th>\n",
       "      <th>p22</th>\n",
       "      <th>p23</th>\n",
       "      <th>p24</th>\n",
       "      <th>p25</th>\n",
       "      <th>p26</th>\n",
       "      <th>p27</th>\n",
       "      <th>p28</th>\n",
       "    </tr>\n",
       "  </thead>\n",
       "  <tbody>\n",
       "    <tr>\n",
       "      <th>0</th>\n",
       "      <td>6.48148</td>\n",
       "      <td>3.0</td>\n",
       "      <td>5.0</td>\n",
       "      <td>7.75000</td>\n",
       "      <td>0.0</td>\n",
       "      <td>7.16667</td>\n",
       "      <td>8.16667</td>\n",
       "      <td>9.66667</td>\n",
       "      <td>6.16667</td>\n",
       "      <td>9.0</td>\n",
       "      <td>...</td>\n",
       "      <td>0.0</td>\n",
       "      <td>3.0</td>\n",
       "      <td>1.66667</td>\n",
       "      <td>1.33333</td>\n",
       "      <td>0.0</td>\n",
       "      <td>1.66667</td>\n",
       "      <td>3.16667</td>\n",
       "      <td>0.0</td>\n",
       "      <td>0.00000</td>\n",
       "      <td>0.0</td>\n",
       "    </tr>\n",
       "    <tr>\n",
       "      <th>1</th>\n",
       "      <td>5.74074</td>\n",
       "      <td>4.0</td>\n",
       "      <td>8.0</td>\n",
       "      <td>7.33333</td>\n",
       "      <td>8.0</td>\n",
       "      <td>8.83333</td>\n",
       "      <td>9.75000</td>\n",
       "      <td>9.66667</td>\n",
       "      <td>9.00000</td>\n",
       "      <td>10.0</td>\n",
       "      <td>...</td>\n",
       "      <td>7.0</td>\n",
       "      <td>3.5</td>\n",
       "      <td>8.46667</td>\n",
       "      <td>7.33333</td>\n",
       "      <td>7.0</td>\n",
       "      <td>2.50000</td>\n",
       "      <td>5.50000</td>\n",
       "      <td>5.0</td>\n",
       "      <td>8.66667</td>\n",
       "      <td>8.0</td>\n",
       "    </tr>\n",
       "    <tr>\n",
       "      <th>2</th>\n",
       "      <td>7.59259</td>\n",
       "      <td>7.0</td>\n",
       "      <td>8.0</td>\n",
       "      <td>7.66667</td>\n",
       "      <td>8.0</td>\n",
       "      <td>9.66667</td>\n",
       "      <td>9.50000</td>\n",
       "      <td>6.16667</td>\n",
       "      <td>9.66667</td>\n",
       "      <td>6.5</td>\n",
       "      <td>...</td>\n",
       "      <td>8.0</td>\n",
       "      <td>10.0</td>\n",
       "      <td>8.50000</td>\n",
       "      <td>10.00000</td>\n",
       "      <td>9.0</td>\n",
       "      <td>3.50000</td>\n",
       "      <td>3.50000</td>\n",
       "      <td>9.0</td>\n",
       "      <td>6.50000</td>\n",
       "      <td>7.0</td>\n",
       "    </tr>\n",
       "  </tbody>\n",
       "</table>\n",
       "<p>3 rows × 28 columns</p>\n",
       "</div>"
      ],
      "text/plain": [
       "        p1   p2   p3       p4   p5       p6       p7       p8       p9   p10  \\\n",
       "0  6.48148  3.0  5.0  7.75000  0.0  7.16667  8.16667  9.66667  6.16667   9.0   \n",
       "1  5.74074  4.0  8.0  7.33333  8.0  8.83333  9.75000  9.66667  9.00000  10.0   \n",
       "2  7.59259  7.0  8.0  7.66667  8.0  9.66667  9.50000  6.16667  9.66667   6.5   \n",
       "\n",
       "  ...   p19   p20      p21       p22  p23      p24      p25  p26      p27  p28  \n",
       "0 ...   0.0   3.0  1.66667   1.33333  0.0  1.66667  3.16667  0.0  0.00000  0.0  \n",
       "1 ...   7.0   3.5  8.46667   7.33333  7.0  2.50000  5.50000  5.0  8.66667  8.0  \n",
       "2 ...   8.0  10.0  8.50000  10.00000  9.0  3.50000  3.50000  9.0  6.50000  7.0  \n",
       "\n",
       "[3 rows x 28 columns]"
      ]
     },
     "execution_count": 213,
     "metadata": {},
     "output_type": "execute_result"
    }
   ],
   "source": [
    "dataset1.head(3)"
   ]
  },
  {
   "cell_type": "markdown",
   "metadata": {},
   "source": [
    "### Split the 1st dataset into X and y"
   ]
  },
  {
   "cell_type": "code",
   "execution_count": 95,
   "metadata": {
    "collapsed": true
   },
   "outputs": [],
   "source": [
    "target_names = ['y' + str(i) for i in range(1, 6)]\n",
    "targets = dataset1[target_names]\n",
    "dataset1.drop(target_names, axis=1, inplace=True)\n",
    "dataset1.drop('id', axis=1, inplace=True)"
   ]
  },
  {
   "cell_type": "code",
   "execution_count": 34,
   "metadata": {
    "collapsed": true
   },
   "outputs": [],
   "source": [
    "def bootstrap_estimate(func, data, B=1000):\n",
    "    \"\"\"\n",
    "    Args:\n",
    "        func - statistic to estimate\n",
    "        data - vector of values\n",
    "        B - number of bootstrap samples\n",
    "    \n",
    "    Returns:\n",
    "        estimate, std - estimation for the func\n",
    "    \"\"\"\n",
    "    samples = np.random.choice(data, size=(B, len(data)))\n",
    "    statistics = np.apply_along_axis(func, axis=1, arr=samples)\n",
    "    b_mean = np.mean(statistics)\n",
    "    b_std = np.std(statistics)\n",
    "    return b_mean, b_std"
   ]
  },
  {
   "cell_type": "markdown",
   "metadata": {},
   "source": [
    "### Estimate the targets $y_i$ using Bootstrap"
   ]
  },
  {
   "cell_type": "code",
   "execution_count": 35,
   "metadata": {},
   "outputs": [
    {
     "name": "stdout",
     "output_type": "stream",
     "text": [
      "Evaluating y1\n",
      "Mean:\n",
      "(4.025525 +- 1.96 * 0.46388209641567324) for 95% confidence\n",
      "\n",
      "Median:\n",
      "(4.00625 +- 1.96 * 0.573714595857557) for 95% confidence\n",
      "\n",
      "\n",
      "Evaluating y2\n",
      "Mean:\n",
      "(5.49970625 +- 1.96 * 0.52201355911359) for 95% confidence\n",
      "\n",
      "Median:\n",
      "(6.172875 +- 1.96 * 0.7124814800224635) for 95% confidence\n",
      "\n",
      "\n",
      "Evaluating y3\n",
      "Mean:\n",
      "(7.33241775 +- 1.96 * 0.45930786807155555) for 95% confidence\n",
      "\n",
      "Median:\n",
      "(8.309085 +- 1.96 * 0.2750371570806391) for 95% confidence\n",
      "\n",
      "\n",
      "Evaluating y4\n",
      "Mean:\n",
      "(1.5212154999999998 +- 1.96 * 0.11332830983364219) for 95% confidence\n",
      "\n",
      "Median:\n",
      "(1.85524 +- 1.96 * 0.13428623309930174) for 95% confidence\n",
      "\n",
      "\n",
      "Evaluating y5\n",
      "Mean:\n",
      "(5.607217 +- 1.96 * 0.4242976871089448) for 95% confidence\n",
      "\n",
      "Median:\n",
      "(6.195824999999999 +- 1.96 * 0.4247392074850167) for 95% confidence\n",
      "\n",
      "\n"
     ]
    }
   ],
   "source": [
    "for target_name in target_names:\n",
    "    target = targets[target_name]\n",
    "    print(\"Evaluating\", target_name)\n",
    "    \n",
    "    print(\"Mean:\")\n",
    "    mean_b_mean, mean_b_std = bootstrap_estimate(np.mean, target)\n",
    "    print(\"({} +- 1.96 * {}) for 95% confidence\".format(mean_b_mean, mean_b_std))\n",
    "    print()\n",
    "    print(\"Median:\")\n",
    "    median_b_mean, median_b_std = bootstrap_estimate(np.median, target)\n",
    "    print(\"({} +- 1.96 * {}) for 95% confidence\".format(median_b_mean, median_b_std))\n",
    "    print(); print()"
   ]
  },
  {
   "cell_type": "code",
   "execution_count": 100,
   "metadata": {
    "collapsed": true
   },
   "outputs": [],
   "source": [
    "def bootstrap_estimate_regressor(regressor_class, X, y, B=1000):\n",
    "    \"\"\"\n",
    "    Args:\n",
    "        regressor - class of the regressor (example: LinearRegression)\n",
    "        X - data, np.array\n",
    "        y - target, np.array\n",
    "        B - number of bootstrap samples\n",
    "        \n",
    "    Returns:\n",
    "        means, stds: tuple of lists of values\n",
    "    \"\"\"\n",
    "    resample_indices = np.random.choice(list(range(X.shape[0])), size=(B, X.shape[0]))\n",
    "    coefficients = np.ndarray((B, X.shape[1] + 1)) # + 1 for the intercept\n",
    "    \n",
    "    for i in range(B):\n",
    "        X_resample = X.iloc[resample_indices[i], :]\n",
    "        y_resample = y[resample_indices[i]]\n",
    "        regressor = regressor_class()\n",
    "        regressor.fit(X_resample, y_resample)\n",
    "        coefficients[i] = np.concatenate((regressor.coef_, [regressor.intercept_]))\n",
    "        \n",
    "    coef_means, coef_stds = [], []\n",
    "    for i in range(coefficients.shape[1]):\n",
    "        cur_coef = coefficients[:, i]\n",
    "        coef_means.append(np.mean(cur_coef))\n",
    "        coef_stds.append(np.std(cur_coef))\n",
    "    \n",
    "    return coef_means, coef_stds"
   ]
  },
  {
   "cell_type": "markdown",
   "metadata": {},
   "source": [
    "### Create a linear model for each $y_i$"
   ]
  },
  {
   "cell_type": "markdown",
   "metadata": {},
   "source": [
    "Create a LinearRegression model for each $y_i$ and evaluate it using Mean Squared Error."
   ]
  },
  {
   "cell_type": "code",
   "execution_count": 211,
   "metadata": {},
   "outputs": [
    {
     "name": "stdout",
     "output_type": "stream",
     "text": [
      "MSE for y1 is 77.88111176274357\n",
      "\n",
      "MSE for y2 is 43.4188974167444\n",
      "\n",
      "MSE for y3 is 3.6396430922531744\n",
      "\n",
      "MSE for y4 is 14.487679595848666\n",
      "\n",
      "MSE for y5 is 4.757983590806139\n",
      "\n"
     ]
    }
   ],
   "source": [
    "for target_name in target_names:\n",
    "    target = targets[target_name]\n",
    "    X_train, X_test, y_train, y_test = train_test_split(dataset1, target, test_size=0.2)\n",
    "    regressor = LinearRegression()\n",
    "    regressor.fit(X_train, y_train)\n",
    "    y_pred = regressor.predict(X_test)\n",
    "    print(\"MSE for\", target_name, \"is {}\".format(mean_squared_error(y_pred, y_test)))\n",
    "    print()"
   ]
  },
  {
   "cell_type": "markdown",
   "metadata": {},
   "source": [
    "### Now estimate confidence intervals for the coeffifients of a linear model"
   ]
  },
  {
   "cell_type": "markdown",
   "metadata": {},
   "source": [
    "For the second part of the first assignment the resampling procedure is the following:  \n",
    " * Sample train data from X and y with repetitions B times.  \n",
    " * Then, train a linear model on these data and save the coeffients of the model.  \n",
    " * Finally, calculate the mean and the standard deviation for each coeffifient to estimate the confidence interval."
   ]
  },
  {
   "cell_type": "code",
   "execution_count": 212,
   "metadata": {
    "scrolled": false
   },
   "outputs": [
    {
     "name": "stdout",
     "output_type": "stream",
     "text": [
      "Evaluating y1 confidence intervals for coeffs for 95% confidence\n",
      "Estimating coefficient_0\n",
      "(0.3052473918532328 +- 1.96 * 0.2459362485313749)\n",
      "Estimating coefficient_1\n",
      "(-0.016330110599094335 +- 1.96 * 0.24739534023004342)\n",
      "Estimating coefficient_2\n",
      "(-0.08665757880476911 +- 1.96 * 0.32958021074123506)\n",
      "Estimating coefficient_3\n",
      "(0.5928848760191404 +- 1.96 * 0.3360349365294616)\n",
      "Estimating coefficient_4\n",
      "(-0.25621866702969215 +- 1.96 * 0.3142084759283443)\n",
      "Estimating coefficient_5\n",
      "(0.22120323093850972 +- 1.96 * 0.4324485246556507)\n",
      "Estimating coefficient_6\n",
      "(-0.37903163384217897 +- 1.96 * 0.40331838047058954)\n",
      "Estimating coefficient_7\n",
      "(-0.08635390600581937 +- 1.96 * 0.3077645649043386)\n",
      "Estimating coefficient_8\n",
      "(-0.044652940855385834 +- 1.96 * 0.32766974253338427)\n",
      "Estimating coefficient_9\n",
      "(-0.20750107228094405 +- 1.96 * 0.30756256587419756)\n",
      "Estimating coefficient_10\n",
      "(0.3783408871328197 +- 1.96 * 0.3874257314125129)\n",
      "Estimating coefficient_11\n",
      "(0.05627876378175603 +- 1.96 * 0.3733778257325087)\n",
      "Estimating coefficient_12\n",
      "(0.14104371592813875 +- 1.96 * 0.32545630720889684)\n",
      "Estimating coefficient_13\n",
      "(-0.03368434022278277 +- 1.96 * 0.27842150580340197)\n",
      "Estimating coefficient_14\n",
      "(-0.43340294575512983 +- 1.96 * 0.2670942506592189)\n",
      "Estimating coefficient_15\n",
      "(0.19967344374691132 +- 1.96 * 0.19949887609195938)\n",
      "Estimating coefficient_16\n",
      "(0.32363421909956036 +- 1.96 * 0.2525227326283371)\n",
      "Estimating coefficient_17\n",
      "(-0.05794376611311911 +- 1.96 * 0.2486578899759727)\n",
      "Estimating coefficient_18\n",
      "(-0.21187147231598252 +- 1.96 * 0.2524699983418228)\n",
      "Estimating coefficient_19\n",
      "(-0.16111621699091042 +- 1.96 * 0.2603676032291606)\n",
      "Estimating coefficient_20\n",
      "(0.3609088717267041 +- 1.96 * 0.26108781239312406)\n",
      "Estimating coefficient_21\n",
      "(-0.018903173521867246 +- 1.96 * 0.2208717582145471)\n",
      "Estimating coefficient_22\n",
      "(0.34377321899604113 +- 1.96 * 0.20080065742351835)\n",
      "Estimating coefficient_23\n",
      "(-0.24272363459481638 +- 1.96 * 0.25358122652890114)\n",
      "Estimating coefficient_24\n",
      "(0.21162784257312348 +- 1.96 * 0.27878195332390077)\n",
      "Estimating coefficient_25\n",
      "(0.0504874395443007 +- 1.96 * 0.24696281609211213)\n",
      "Estimating coefficient_26\n",
      "(-0.03977049776435379 +- 1.96 * 0.28539145656239817)\n",
      "Estimating coefficient_27\n",
      "(-0.16115261473659842 +- 1.96 * 0.21294535618668742)\n",
      "Estimating the intercept\n",
      "(-0.022447894970708544 +- 1.96 * 0.43529900616369255)\n",
      "\n",
      "Evaluating y2 confidence intervals for coeffs for 95% confidence\n",
      "Estimating coefficient_0\n",
      "(-0.022584535374032776 +- 1.96 * 0.4065884305569933)\n",
      "Estimating coefficient_1\n",
      "(0.11213123799836339 +- 1.96 * 0.35870668689750496)\n",
      "Estimating coefficient_2\n",
      "(-0.11165303164140478 +- 1.96 * 0.4703292646086423)\n",
      "Estimating coefficient_3\n",
      "(0.21008764464581062 +- 1.96 * 0.49540042517950467)\n",
      "Estimating coefficient_4\n",
      "(0.06198518206297909 +- 1.96 * 0.473291949106145)\n",
      "Estimating coefficient_5\n",
      "(0.4982033672610486 +- 1.96 * 0.7002382154229662)\n",
      "Estimating coefficient_6\n",
      "(0.38477984563870893 +- 1.96 * 0.4889208619478313)\n",
      "Estimating coefficient_7\n",
      "(-0.3800606859586509 +- 1.96 * 0.48398335418740546)\n",
      "Estimating coefficient_8\n",
      "(-0.06532273823765576 +- 1.96 * 0.4719263481879249)\n",
      "Estimating coefficient_9\n",
      "(-0.05244154298568181 +- 1.96 * 0.47441563597876846)\n",
      "Estimating coefficient_10\n",
      "(0.19404948631167543 +- 1.96 * 0.4910560066017214)\n",
      "Estimating coefficient_11\n",
      "(0.05057302930415489 +- 1.96 * 0.5950537203595693)\n",
      "Estimating coefficient_12\n",
      "(-0.006466221887143646 +- 1.96 * 0.4733387680947154)\n",
      "Estimating coefficient_13\n",
      "(0.1922931976275236 +- 1.96 * 0.3514369647208421)\n",
      "Estimating coefficient_14\n",
      "(-0.380733516000323 +- 1.96 * 0.4161633302038853)\n",
      "Estimating coefficient_15\n",
      "(0.17966669611647312 +- 1.96 * 0.2999818627292036)\n",
      "Estimating coefficient_16\n",
      "(0.19437599085032298 +- 1.96 * 0.3292043942104859)\n",
      "Estimating coefficient_17\n",
      "(0.02670114418747452 +- 1.96 * 0.3279674110842693)\n",
      "Estimating coefficient_18\n",
      "(-0.3485750055508314 +- 1.96 * 0.3885978533090944)\n",
      "Estimating coefficient_19\n",
      "(-0.15759721933204907 +- 1.96 * 0.3973456792836041)\n",
      "Estimating coefficient_20\n",
      "(0.33282811096363885 +- 1.96 * 0.3809260007768491)\n",
      "Estimating coefficient_21\n",
      "(0.2099891678993505 +- 1.96 * 0.3221576461558138)\n",
      "Estimating coefficient_22\n",
      "(-0.11114938735519185 +- 1.96 * 0.27730359936850785)\n",
      "Estimating coefficient_23\n",
      "(-0.01502622163638666 +- 1.96 * 0.4651778029292537)\n",
      "Estimating coefficient_24\n",
      "(0.11232364649227085 +- 1.96 * 0.42304441416552485)\n",
      "Estimating coefficient_25\n",
      "(0.22977252470315832 +- 1.96 * 0.3815910513793848)\n",
      "Estimating coefficient_26\n",
      "(-0.27930789294282227 +- 1.96 * 0.5735527114780614)\n",
      "Estimating coefficient_27\n",
      "(-0.19860890728850297 +- 1.96 * 0.26546193711402405)\n",
      "Estimating the intercept\n",
      "(-0.017610235874727733 +- 1.96 * 0.40995780424756484)\n",
      "\n",
      "Evaluating y3 confidence intervals for coeffs for 95% confidence\n",
      "Estimating coefficient_0\n",
      "(0.051177439005156485 +- 1.96 * 0.07426591496685372)\n",
      "Estimating coefficient_1\n",
      "(0.03535417571327615 +- 1.96 * 0.056768119889512816)\n",
      "Estimating coefficient_2\n",
      "(0.05472680855374009 +- 1.96 * 0.07986477023652078)\n",
      "Estimating coefficient_3\n",
      "(0.07448686302870053 +- 1.96 * 0.08123214432321112)\n",
      "Estimating coefficient_4\n",
      "(0.10210684277000757 +- 1.96 * 0.07688188837102766)\n",
      "Estimating coefficient_5\n",
      "(0.007926945930539879 +- 1.96 * 0.10755424828131124)\n",
      "Estimating coefficient_6\n",
      "(0.1648399977970918 +- 1.96 * 0.0931687528325408)\n",
      "Estimating coefficient_7\n",
      "(0.13169291444211637 +- 1.96 * 0.09189482679800252)\n",
      "Estimating coefficient_8\n",
      "(0.08023732111018501 +- 1.96 * 0.10203247555275198)\n",
      "Estimating coefficient_9\n",
      "(0.0529842210299951 +- 1.96 * 0.07987468239909688)\n",
      "Estimating coefficient_10\n",
      "(0.13324413909867183 +- 1.96 * 0.09687855936999933)\n",
      "Estimating coefficient_11\n",
      "(0.11832614580007716 +- 1.96 * 0.10080780128655152)\n",
      "Estimating coefficient_12\n",
      "(0.006439010216469216 +- 1.96 * 0.07908851011075851)\n",
      "Estimating coefficient_13\n",
      "(0.05243882446759999 +- 1.96 * 0.08261316634112427)\n",
      "Estimating coefficient_14\n",
      "(0.07524449704684713 +- 1.96 * 0.06782486184870903)\n",
      "Estimating coefficient_15\n",
      "(-0.0017363200144281188 +- 1.96 * 0.04914942297915374)\n",
      "Estimating coefficient_16\n",
      "(-0.04179891891580384 +- 1.96 * 0.06784257165707387)\n",
      "Estimating coefficient_17\n",
      "(-0.0006534095903160185 +- 1.96 * 0.0736982023081848)\n",
      "Estimating coefficient_18\n",
      "(0.04753107402424646 +- 1.96 * 0.07063356766064761)\n",
      "Estimating coefficient_19\n",
      "(0.015284110685826345 +- 1.96 * 0.06600422946304654)\n",
      "Estimating coefficient_20\n",
      "(-0.012298011778592672 +- 1.96 * 0.07096772085127713)\n",
      "Estimating coefficient_21\n",
      "(-0.03401792013636229 +- 1.96 * 0.06607130525933012)\n",
      "Estimating coefficient_22\n",
      "(7.967483943773418e-05 +- 1.96 * 0.052669684968453756)\n",
      "Estimating coefficient_23\n",
      "(0.0398720775780162 +- 1.96 * 0.06884110503608394)\n",
      "Estimating coefficient_24\n",
      "(-0.07365876404514299 +- 1.96 * 0.07897643033819139)\n",
      "Estimating coefficient_25\n",
      "(-1.0838306214789596e-05 +- 1.96 * 0.0708041901291112)\n",
      "Estimating coefficient_26\n",
      "(-0.00028346969200432326 +- 1.96 * 0.07973769595338481)\n",
      "Estimating coefficient_27\n",
      "(-0.01917399553521352 +- 1.96 * 0.051182201456378924)\n",
      "Estimating the intercept\n",
      "(0.02201087888094191 +- 1.96 * 0.2485220391424638)\n",
      "\n",
      "Evaluating y4 confidence intervals for coeffs for 95% confidence\n",
      "Estimating coefficient_0\n",
      "(-0.02313261304826252 +- 1.96 * 0.04289891665685881)\n",
      "Estimating coefficient_1\n",
      "(-0.0008685429033719769 +- 1.96 * 0.03525638938375469)\n",
      "Estimating coefficient_2\n",
      "(0.026510156113911908 +- 1.96 * 0.057802976408654075)\n",
      "Estimating coefficient_3\n",
      "(0.02831602880028164 +- 1.96 * 0.04606308464533662)\n",
      "Estimating coefficient_4\n",
      "(0.04434768808641603 +- 1.96 * 0.0412342627350406)\n",
      "Estimating coefficient_5\n",
      "(0.04968579345040043 +- 1.96 * 0.06834707497027112)\n",
      "Estimating coefficient_6\n",
      "(-0.020119697394872408 +- 1.96 * 0.061167106198356164)\n",
      "Estimating coefficient_7\n",
      "(0.06117540772141643 +- 1.96 * 0.0530168958828602)\n",
      "Estimating coefficient_8\n",
      "(0.042656301388637574 +- 1.96 * 0.059053668782145394)\n",
      "Estimating coefficient_9\n",
      "(0.02700560840307788 +- 1.96 * 0.05758894828899638)\n",
      "Estimating coefficient_10\n",
      "(-0.006849167270962192 +- 1.96 * 0.06497208205804852)\n",
      "Estimating coefficient_11\n",
      "(-0.001469518006729794 +- 1.96 * 0.06619149484394353)\n",
      "Estimating coefficient_12\n",
      "(-0.06371605195867522 +- 1.96 * 0.04711529808152812)\n",
      "Estimating coefficient_13\n",
      "(0.03729506897631613 +- 1.96 * 0.04267992253262685)\n",
      "Estimating coefficient_14\n",
      "(-0.0291086765869272 +- 1.96 * 0.050214947284385573)\n",
      "Estimating coefficient_15\n",
      "(0.024175362044688557 +- 1.96 * 0.031484685622264794)\n",
      "Estimating coefficient_16\n",
      "(-0.04603793474200113 +- 1.96 * 0.045012604598961815)\n",
      "Estimating coefficient_17\n",
      "(0.03306792903542521 +- 1.96 * 0.04078339380904264)\n",
      "Estimating coefficient_18\n",
      "(0.027545891900325237 +- 1.96 * 0.04015313379951429)\n",
      "Estimating coefficient_19\n",
      "(0.029576665867569386 +- 1.96 * 0.04692715206392505)\n",
      "Estimating coefficient_20\n",
      "(0.04606073701779964 +- 1.96 * 0.045845976782851856)\n",
      "Estimating coefficient_21\n",
      "(-0.047972514460880515 +- 1.96 * 0.043659309267359746)\n",
      "Estimating coefficient_22\n",
      "(0.019270540598781954 +- 1.96 * 0.03368200326002764)\n",
      "Estimating coefficient_23\n",
      "(0.015413525875169655 +- 1.96 * 0.04751720108814641)\n",
      "Estimating coefficient_24\n",
      "(-0.05519363775567555 +- 1.96 * 0.05676146944158244)\n",
      "Estimating coefficient_25\n",
      "(0.01741962715006592 +- 1.96 * 0.04392499699053847)\n",
      "Estimating coefficient_26\n",
      "(0.00850904028420664 +- 1.96 * 0.04431152193034938)\n"
     ]
    },
    {
     "name": "stdout",
     "output_type": "stream",
     "text": [
      "Estimating coefficient_27\n",
      "(-0.0006467801122101742 +- 1.96 * 0.031162015220312374)\n",
      "Estimating the intercept\n",
      "(0.0017643177366053469 +- 1.96 * 0.04828330655329393)\n",
      "\n",
      "Evaluating y5 confidence intervals for coeffs for 95% confidence\n",
      "Estimating coefficient_0\n",
      "(0.09663841059101225 +- 1.96 * 0.15981984763337023)\n",
      "Estimating coefficient_1\n",
      "(0.03499265201869525 +- 1.96 * 0.14877430039477219)\n",
      "Estimating coefficient_2\n",
      "(-0.03233122744435318 +- 1.96 * 0.20912687306104377)\n",
      "Estimating coefficient_3\n",
      "(0.3134966158989402 +- 1.96 * 0.19650934877460513)\n",
      "Estimating coefficient_4\n",
      "(-0.04308868686595181 +- 1.96 * 0.1699256546908766)\n",
      "Estimating coefficient_5\n",
      "(0.256824407168735 +- 1.96 * 0.2810546317922285)\n",
      "Estimating coefficient_6\n",
      "(0.025008048938897312 +- 1.96 * 0.20217867263225608)\n",
      "Estimating coefficient_7\n",
      "(-0.08509437382045641 +- 1.96 * 0.18358863542206175)\n",
      "Estimating coefficient_8\n",
      "(-0.006785705100062131 +- 1.96 * 0.23968477189752316)\n",
      "Estimating coefficient_9\n",
      "(-0.058725180653944616 +- 1.96 * 0.20505820031854122)\n",
      "Estimating coefficient_10\n",
      "(0.21950737092528733 +- 1.96 * 0.21893310634346577)\n",
      "Estimating coefficient_11\n",
      "(0.06505049464335926 +- 1.96 * 0.22062724921374025)\n",
      "Estimating coefficient_12\n",
      "(0.039742479875343566 +- 1.96 * 0.19975855698876616)\n",
      "Estimating coefficient_13\n",
      "(0.06602217970651464 +- 1.96 * 0.17902673634033595)\n",
      "Estimating coefficient_14\n",
      "(-0.2514105648040371 +- 1.96 * 0.19986283374429706)\n",
      "Estimating coefficient_15\n",
      "(0.12384555067052841 +- 1.96 * 0.12654246411827705)\n",
      "Estimating coefficient_16\n",
      "(0.13536442726897532 +- 1.96 * 0.14861600150264492)\n",
      "Estimating coefficient_17\n",
      "(-0.002269349962124311 +- 1.96 * 0.14369074039864907)\n",
      "Estimating coefficient_18\n",
      "(-0.14048577117362687 +- 1.96 * 0.19043629224108788)\n",
      "Estimating coefficient_19\n",
      "(-0.08665844514661092 +- 1.96 * 0.17000778979736222)\n",
      "Estimating coefficient_20\n",
      "(0.21533259504534066 +- 1.96 * 0.17887271265106924)\n",
      "Estimating coefficient_21\n",
      "(0.03406242979686218 +- 1.96 * 0.15521541148687776)\n",
      "Estimating coefficient_22\n",
      "(0.09516770603437226 +- 1.96 * 0.1283111869199293)\n",
      "Estimating coefficient_23\n",
      "(-0.08244489614024167 +- 1.96 * 0.17672305019252194)\n",
      "Estimating coefficient_24\n",
      "(0.06972900932301525 +- 1.96 * 0.174692240999731)\n",
      "Estimating coefficient_25\n",
      "(0.10481491538211628 +- 1.96 * 0.17820493459955764)\n",
      "Estimating coefficient_26\n",
      "(-0.08785290518016846 +- 1.96 * 0.21742986709516485)\n",
      "Estimating coefficient_27\n",
      "(-0.11945029852127398 +- 1.96 * 0.1258410623380885)\n",
      "Estimating the intercept\n",
      "(0.000526232302898955 +- 1.96 * 0.12940758969107188)\n",
      "\n"
     ]
    }
   ],
   "source": [
    "for target_name in target_names:\n",
    "    target = targets[target_name]\n",
    "    print(\"Evaluating\", target_name, \"confidence intervals for coeffs for 95% confidence\")\n",
    "    \n",
    "    coef_means, coef_stds = bootstrap_estimate_regressor(LinearRegression, dataset1, target)\n",
    "    for i in range(len(coef_means)):\n",
    "        current_coef_name = \"coefficient_\" + str(i)\n",
    "        if i == len(coef_means) - 1:\n",
    "            current_coef_name = \"the intercept\"\n",
    "        print(\"Estimating\", current_coef_name)\n",
    "        print(\"({} +- 1.96 * {})\".format(coef_means[i], coef_stds[i]))\n",
    "    print()"
   ]
  },
  {
   "cell_type": "markdown",
   "metadata": {},
   "source": [
    "## Assignment 2"
   ]
  },
  {
   "cell_type": "markdown",
   "metadata": {},
   "source": [
    "The task is to determine the best model for the mean number of bugs as a function of time.  \n",
    "Then, the confidence intervals for each of the model's parameters should be estimated using Bootstrap."
   ]
  },
  {
   "cell_type": "markdown",
   "metadata": {},
   "source": [
    "### Check the 2nd dataset"
   ]
  },
  {
   "cell_type": "code",
   "execution_count": 201,
   "metadata": {},
   "outputs": [
    {
     "data": {
      "text/html": [
       "<div>\n",
       "<table border=\"1\" class=\"dataframe\">\n",
       "  <thead>\n",
       "    <tr style=\"text-align: right;\">\n",
       "      <th></th>\n",
       "      <th>day</th>\n",
       "      <th>bugsPerDay</th>\n",
       "      <th>cummBugs</th>\n",
       "    </tr>\n",
       "  </thead>\n",
       "  <tbody>\n",
       "    <tr>\n",
       "      <th>0</th>\n",
       "      <td>1</td>\n",
       "      <td>0</td>\n",
       "      <td>0</td>\n",
       "    </tr>\n",
       "    <tr>\n",
       "      <th>1</th>\n",
       "      <td>2</td>\n",
       "      <td>1</td>\n",
       "      <td>1</td>\n",
       "    </tr>\n",
       "    <tr>\n",
       "      <th>2</th>\n",
       "      <td>3</td>\n",
       "      <td>0</td>\n",
       "      <td>1</td>\n",
       "    </tr>\n",
       "  </tbody>\n",
       "</table>\n",
       "</div>"
      ],
      "text/plain": [
       "   day  bugsPerDay  cummBugs\n",
       "0    1           0         0\n",
       "1    2           1         1\n",
       "2    3           0         1"
      ]
     },
     "execution_count": 201,
     "metadata": {},
     "output_type": "execute_result"
    }
   ],
   "source": [
    "dataset2.head(3)"
   ]
  },
  {
   "cell_type": "code",
   "execution_count": 199,
   "metadata": {
    "collapsed": true
   },
   "outputs": [],
   "source": [
    "def ros(t, a=1, b=1):\n",
    "    \"\"\"\n",
    "    S-shaped model.\n",
    "    Accepts t as a timepoint and a, b as model parameters.\n",
    "    Returns the predicted number of bugs given timepoint.\n",
    "    \"\"\"\n",
    "    return a*(1 - (1 + b*t)*np.exp(-b*t))"
   ]
  },
  {
   "cell_type": "markdown",
   "metadata": {},
   "source": [
    "Since the data is a time series, the proposed approach to do the sampling is the following:  \n",
    " * Set random 10% of data from the `bugsPerDay` column to 0. Then, recalculate the cumulative sum.  \n",
    " * The sampling procedure is being repeated B times. For each sample, the least squares optimization is used to determine the best model given the data.  \n",
    " * Then, the mean and the standard deviation are calculated to estimate the confidence interval for each of the model's parameters.  \n",
    " * Finally, the optimization procedure is executed on the whole dataset in order to do the comparison."
   ]
  },
  {
   "cell_type": "code",
   "execution_count": 195,
   "metadata": {},
   "outputs": [
    {
     "data": {
      "application/vnd.jupyter.widget-view+json": {
       "model_id": "9869d5a0487044fc96fbfb4acdb05666"
      }
     },
     "metadata": {},
     "output_type": "display_data"
    },
    {
     "name": "stderr",
     "output_type": "stream",
     "text": [
      "/usr/local/lib/python3.6/site-packages/scipy/optimize/optimize.py:964: RuntimeWarning: divide by zero encountered in double_scalars\n",
      "  rhok = 1.0 / (numpy.dot(yk, sk))\n",
      "/usr/local/lib/python3.6/site-packages/scipy/optimize/optimize.py:964: RuntimeWarning: divide by zero encountered in double_scalars\n",
      "  rhok = 1.0 / (numpy.dot(yk, sk))\n",
      "/usr/local/lib/python3.6/site-packages/scipy/optimize/optimize.py:964: RuntimeWarning: divide by zero encountered in double_scalars\n",
      "  rhok = 1.0 / (numpy.dot(yk, sk))\n",
      "/usr/local/lib/python3.6/site-packages/scipy/optimize/optimize.py:964: RuntimeWarning: divide by zero encountered in double_scalars\n",
      "  rhok = 1.0 / (numpy.dot(yk, sk))\n",
      "/usr/local/lib/python3.6/site-packages/scipy/optimize/optimize.py:964: RuntimeWarning: divide by zero encountered in double_scalars\n",
      "  rhok = 1.0 / (numpy.dot(yk, sk))\n"
     ]
    },
    {
     "name": "stdout",
     "output_type": "stream",
     "text": [
      "\n",
      "a: (18709.62167630103 +- 1.96 * 144827.36988481347)\n",
      "b: (0.0018502726499009373 +- 1.96 * 0.00015379929476585236)\n"
     ]
    }
   ],
   "source": [
    "def func_to_min(values):\n",
    "    \"\"\"\n",
    "    Least squares optimization problem \n",
    "    to determine the best model given data.\n",
    "    \"\"\"\n",
    "    a, b = values\n",
    "    return np.sum(np.power(np.array([ros(x, a, b) for x in np.arange(len(current_cumsum))]) - current_cumsum, 2))\n",
    "\n",
    "B = 1000\n",
    "results_a, results_b = [], []\n",
    "throw_away_inds_len = int(0.1 * len(dataset2['day']))\n",
    "for i in tqdm(range(B)):\n",
    "    current_bugs = dataset2['bugsPerDay'].copy()\n",
    "    \n",
    "    # randomly set some of the bugs to 0\n",
    "    throw_away_inds = np.random.choice(np.arange(len(current_bugs)), size=throw_away_inds_len)\n",
    "    current_bugs[throw_away_inds] = 0\n",
    "    current_cumsum = np.cumsum(current_bugs)\n",
    "    \n",
    "    # [5000., 0.001] is a starting point for the parameters\n",
    "    result = minimize(func_to_min, [5000., 0.001], tol=1e-25)\n",
    "    a, b = result.x\n",
    "    \n",
    "    results_a.append(a)\n",
    "    results_b.append(b)\n",
    "    \n",
    "print(\"a: ({} +- 1.96 * {})\".format(np.mean(results_a), np.std(results_a)))\n",
    "print(\"b: ({} +- 1.96 * {})\".format(np.mean(results_b), np.std(results_b)))"
   ]
  },
  {
   "cell_type": "code",
   "execution_count": 205,
   "metadata": {},
   "outputs": [
    {
     "data": {
      "image/png": "[encoded data removed]",
      "text/plain": [
       "<matplotlib.figure.Figure at 0x10a6e2400>"
      ]
     },
     "metadata": {},
     "output_type": "display_data"
    }
   ],
   "source": [
    "bugs = dataset2['cummBugs']\n",
    "ros_bugs = [ros(t, np.mean(results_a), np.mean(results_b)) for t in range(len(bugs))]\n",
    "plt.plot(ros_bugs, color='r', label='Bootstrap-estimated curve')\n",
    "plt.plot(bugs, label='Cumulative amount of bugs')\n",
    "plt.xlabel(\"Time\")\n",
    "plt.ylabel(\"Cumulative amount of bugs\")\n",
    "plt.legend(loc='upper left');"
   ]
  },
  {
   "cell_type": "markdown",
   "metadata": {},
   "source": [
    "The bootstrap-estimated model pessimistically overestimated the cumulative amount of bugs over time."
   ]
  },
  {
   "cell_type": "markdown",
   "metadata": {},
   "source": [
    "### Optimizing for the whole dataset"
   ]
  },
  {
   "cell_type": "code",
   "execution_count": 206,
   "metadata": {},
   "outputs": [
    {
     "data": {
      "image/png": "[encoded data removed]",
      "text/plain": [
       "<matplotlib.figure.Figure at 0x10a8afc18>"
      ]
     },
     "metadata": {},
     "output_type": "display_data"
    }
   ],
   "source": [
    "current_cumsum = bugs\n",
    "result = minimize(func_to_min, [5000., 0.001], tol=1e-25)\n",
    "a, b = result.x\n",
    "ros_bugs = [ros(t, a, b) for t in range(len(bugs))]\n",
    "plt.plot(ros_bugs, color='r', label='Estimated curve')\n",
    "plt.plot(bugs, label='Cumulative amount of bugs')\n",
    "plt.xlabel(\"Time\")\n",
    "plt.ylabel(\"Cumulative amount of bugs\")\n",
    "plt.legend(loc='upper left');"
   ]
  },
  {
   "cell_type": "markdown",
   "metadata": {},
   "source": [
    "The model optimized on the whole dataset fitted the data pretty good."
   ]
  }
 ],
 "metadata": {
  "kernelspec": {
   "display_name": "Python 3",
   "language": "python",
   "name": "python3"
  },
  "language_info": {
   "codemirror_mode": {
    "name": "ipython",
    "version": 3
   },
   "file_extension": ".py",
   "mimetype": "text/x-python",
   "name": "python",
   "nbconvert_exporter": "python",
   "pygments_lexer": "ipython3",
   "version": "3.6.0"
  }
 },
 "nbformat": 4,
 "nbformat_minor": 2
}
